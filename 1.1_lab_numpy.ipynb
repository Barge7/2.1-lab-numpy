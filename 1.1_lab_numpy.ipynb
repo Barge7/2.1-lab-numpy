{
 "cells": [
  {
   "cell_type": "code",
   "execution_count": 33,
   "id": "802dfe6b",
   "metadata": {},
   "outputs": [
    {
     "name": "stdout",
     "output_type": "stream",
     "text": [
      "Requirement already satisfied: numpy in c:\\users\\silsi\\anaconda3\\lib\\site-packages (1.21.5)\n",
      "Note: you may need to restart the kernel to use updated packages.\n"
     ]
    }
   ],
   "source": [
    "#1. Import the NUMPY package under the name np.\n",
    "%pip install numpy\n",
    "import numpy as np"
   ]
  },
  {
   "cell_type": "code",
   "execution_count": 34,
   "id": "afc722ac",
   "metadata": {},
   "outputs": [
    {
     "data": {
      "text/plain": [
       "'1.21.5'"
      ]
     },
     "execution_count": 34,
     "metadata": {},
     "output_type": "execute_result"
    }
   ],
   "source": [
    "#2. Print the NUMPY version and the configuration.\n",
    "np.version.version\n"
   ]
  },
  {
   "cell_type": "code",
   "execution_count": 168,
   "id": "416265da",
   "metadata": {},
   "outputs": [],
   "source": [
    "#3. Generate a 2x3x5 3-dimensional array with random values. Assign the array to variable \"a\"\n",
    "# Challenge: there are at least three easy ways that use numpy to generate random arrays. How many ways can you find?\n",
    "a= np.random.random(((2,3,5)))\n"
   ]
  },
  {
   "cell_type": "code",
   "execution_count": 169,
   "id": "c586713a",
   "metadata": {},
   "outputs": [
    {
     "data": {
      "text/plain": [
       "array([[[0.67474401, 0.34385214, 0.18143654, 0.65733041, 0.72172414],\n",
       "        [0.3038035 , 0.9088724 , 0.41034944, 0.84218253, 0.11612205],\n",
       "        [0.6405535 , 0.8426777 , 0.8843958 , 0.21406958, 0.72561716]],\n",
       "\n",
       "       [[0.82501907, 0.07317282, 0.72109159, 0.99858954, 0.89507733],\n",
       "        [0.66160792, 0.73295926, 0.37149319, 0.23335855, 0.7405161 ],\n",
       "        [0.67890123, 0.86729561, 0.93640664, 0.45413795, 0.1224886 ]]])"
      ]
     },
     "execution_count": 169,
     "metadata": {},
     "output_type": "execute_result"
    }
   ],
   "source": [
    "#4. Print a.\n",
    "\n",
    "a"
   ]
  },
  {
   "cell_type": "code",
   "execution_count": 170,
   "id": "cd5ecd14",
   "metadata": {},
   "outputs": [],
   "source": [
    "#5. Create a 5x2x3 3-dimensional array with all values equaling 1.\n",
    "#Assign the array to variable \"b\"\n",
    "\n",
    "b= np.ones(((5,2,3)))"
   ]
  },
  {
   "cell_type": "code",
   "execution_count": 171,
   "id": "44c0f09a",
   "metadata": {},
   "outputs": [
    {
     "data": {
      "text/plain": [
       "array([[[1., 1., 1.],\n",
       "        [1., 1., 1.]],\n",
       "\n",
       "       [[1., 1., 1.],\n",
       "        [1., 1., 1.]],\n",
       "\n",
       "       [[1., 1., 1.],\n",
       "        [1., 1., 1.]],\n",
       "\n",
       "       [[1., 1., 1.],\n",
       "        [1., 1., 1.]],\n",
       "\n",
       "       [[1., 1., 1.],\n",
       "        [1., 1., 1.]]])"
      ]
     },
     "execution_count": 171,
     "metadata": {},
     "output_type": "execute_result"
    }
   ],
   "source": [
    "#6. Print b\n",
    "\n",
    "b"
   ]
  },
  {
   "cell_type": "code",
   "execution_count": 172,
   "id": "965880d8",
   "metadata": {},
   "outputs": [
    {
     "data": {
      "text/plain": [
       "True"
      ]
     },
     "execution_count": 172,
     "metadata": {},
     "output_type": "execute_result"
    }
   ],
   "source": [
    "#7. Do a and b have the same size? How do you prove that in Python code\n",
    "\n",
    "a.size == b.size"
   ]
  },
  {
   "cell_type": "code",
   "execution_count": 173,
   "id": "5ca3b52b",
   "metadata": {},
   "outputs": [
    {
     "ename": "ValueError",
     "evalue": "operands could not be broadcast together with shapes (2,3,5) (5,2,3) ",
     "output_type": "error",
     "traceback": [
      "\u001b[1;31m---------------------------------------------------------------------------\u001b[0m",
      "\u001b[1;31mValueError\u001b[0m                                Traceback (most recent call last)",
      "Input \u001b[1;32mIn [173]\u001b[0m, in \u001b[0;36m<cell line: 3>\u001b[1;34m()\u001b[0m\n\u001b[0;32m      1\u001b[0m \u001b[38;5;66;03m#8. Are you able to add a and b? Why or why not?\u001b[39;00m\n\u001b[1;32m----> 3\u001b[0m \u001b[43ma\u001b[49m\u001b[38;5;241;43m+\u001b[39;49m\u001b[43mb\u001b[49m\n",
      "\u001b[1;31mValueError\u001b[0m: operands could not be broadcast together with shapes (2,3,5) (5,2,3) "
     ]
    }
   ],
   "source": [
    "#8. Are you able to add a and b? Why or why not?\n",
    "\n",
    "a+b\n",
    "# No porque no coincide el numero de filas de b con columnas de a"
   ]
  },
  {
   "cell_type": "code",
   "execution_count": 174,
   "id": "6c8ddda4",
   "metadata": {},
   "outputs": [
    {
     "data": {
      "text/plain": [
       "array([[[1., 1., 1., 1., 1.],\n",
       "        [1., 1., 1., 1., 1.],\n",
       "        [1., 1., 1., 1., 1.]],\n",
       "\n",
       "       [[1., 1., 1., 1., 1.],\n",
       "        [1., 1., 1., 1., 1.],\n",
       "        [1., 1., 1., 1., 1.]]])"
      ]
     },
     "execution_count": 174,
     "metadata": {},
     "output_type": "execute_result"
    }
   ],
   "source": [
    "#9. Transpose b so that it has the same structure of a (i.e. become a 2x3x5 array). Assign the transposed array to varialbe \"c\".\n",
    "\n",
    "c= b.transpose(1,2,0)\n",
    "c"
   ]
  },
  {
   "cell_type": "code",
   "execution_count": 175,
   "id": "e6acae7a",
   "metadata": {},
   "outputs": [
    {
     "data": {
      "text/plain": [
       "array([[[1.67474401, 1.34385214, 1.18143654, 1.65733041, 1.72172414],\n",
       "        [1.3038035 , 1.9088724 , 1.41034944, 1.84218253, 1.11612205],\n",
       "        [1.6405535 , 1.8426777 , 1.8843958 , 1.21406958, 1.72561716]],\n",
       "\n",
       "       [[1.82501907, 1.07317282, 1.72109159, 1.99858954, 1.89507733],\n",
       "        [1.66160792, 1.73295926, 1.37149319, 1.23335855, 1.7405161 ],\n",
       "        [1.67890123, 1.86729561, 1.93640664, 1.45413795, 1.1224886 ]]])"
      ]
     },
     "execution_count": 175,
     "metadata": {},
     "output_type": "execute_result"
    }
   ],
   "source": [
    "#10. Try to add a and c. Now it should work. Assign the sum to varialbe \"d\". But why does it work now?\n",
    "\n",
    "d= a+c\n",
    "d"
   ]
  },
  {
   "cell_type": "code",
   "execution_count": 176,
   "id": "da2f75c4",
   "metadata": {},
   "outputs": [
    {
     "name": "stdout",
     "output_type": "stream",
     "text": [
      "[[[0.67474401 0.34385214 0.18143654 0.65733041 0.72172414]\n",
      "  [0.3038035  0.9088724  0.41034944 0.84218253 0.11612205]\n",
      "  [0.6405535  0.8426777  0.8843958  0.21406958 0.72561716]]\n",
      "\n",
      " [[0.82501907 0.07317282 0.72109159 0.99858954 0.89507733]\n",
      "  [0.66160792 0.73295926 0.37149319 0.23335855 0.7405161 ]\n",
      "  [0.67890123 0.86729561 0.93640664 0.45413795 0.1224886 ]]]\n",
      "    \n",
      "[[[1.67474401 1.34385214 1.18143654 1.65733041 1.72172414]\n",
      "  [1.3038035  1.9088724  1.41034944 1.84218253 1.11612205]\n",
      "  [1.6405535  1.8426777  1.8843958  1.21406958 1.72561716]]\n",
      "\n",
      " [[1.82501907 1.07317282 1.72109159 1.99858954 1.89507733]\n",
      "  [1.66160792 1.73295926 1.37149319 1.23335855 1.7405161 ]\n",
      "  [1.67890123 1.86729561 1.93640664 1.45413795 1.1224886 ]]]\n"
     ]
    }
   ],
   "source": [
    "#11. Print a and d. Notice the difference and relation of the two array in terms of the values? Explain.\n",
    "\n",
    "print(a)\n",
    "print('    ')\n",
    "print(d)\n",
    "\n",
    "# d es un orden de magnitud mayor\n"
   ]
  },
  {
   "cell_type": "code",
   "execution_count": 177,
   "id": "55f1ec96",
   "metadata": {},
   "outputs": [
    {
     "data": {
      "text/plain": [
       "array([[[0.67474401, 0.34385214, 0.18143654, 0.65733041, 0.72172414],\n",
       "        [0.3038035 , 0.9088724 , 0.41034944, 0.84218253, 0.11612205],\n",
       "        [0.6405535 , 0.8426777 , 0.8843958 , 0.21406958, 0.72561716]],\n",
       "\n",
       "       [[0.82501907, 0.07317282, 0.72109159, 0.99858954, 0.89507733],\n",
       "        [0.66160792, 0.73295926, 0.37149319, 0.23335855, 0.7405161 ],\n",
       "        [0.67890123, 0.86729561, 0.93640664, 0.45413795, 0.1224886 ]]])"
      ]
     },
     "execution_count": 177,
     "metadata": {},
     "output_type": "execute_result"
    }
   ],
   "source": [
    "#12. Multiply a and c. Assign the result to e.\n",
    "\n",
    "e = a*c\n",
    "e"
   ]
  },
  {
   "cell_type": "code",
   "execution_count": 178,
   "id": "f749eb6e",
   "metadata": {},
   "outputs": [
    {
     "data": {
      "text/plain": [
       "array([[[ True,  True,  True,  True,  True],\n",
       "        [ True,  True,  True,  True,  True],\n",
       "        [ True,  True,  True,  True,  True]],\n",
       "\n",
       "       [[ True,  True,  True,  True,  True],\n",
       "        [ True,  True,  True,  True,  True],\n",
       "        [ True,  True,  True,  True,  True]]])"
      ]
     },
     "execution_count": 178,
     "metadata": {},
     "output_type": "execute_result"
    }
   ],
   "source": [
    "#13. Does e equal to a? Why or why not?\n",
    "\n",
    "e==a\n",
    "# si porque al multiplicar por 1, da el mismo valor."
   ]
  },
  {
   "cell_type": "code",
   "execution_count": 179,
   "id": "85b01fb5",
   "metadata": {},
   "outputs": [
    {
     "name": "stdout",
     "output_type": "stream",
     "text": [
      "1.9985895433737975\n",
      "1.0731728160128764\n",
      "1.5926615433839997\n"
     ]
    }
   ],
   "source": [
    "#14. Identify the max, min, and mean values in d. Assign those values to variables \"d_max\", \"d_min\", and \"d_mean\"\n",
    "\n",
    "print(d.max())\n",
    "print(d.min())\n",
    "print(d.mean())\n",
    "d_max=d.max()\n",
    "d_min=d.min()\n",
    "d_mean=d.mean()"
   ]
  },
  {
   "cell_type": "code",
   "execution_count": 180,
   "id": "c8ca98cf",
   "metadata": {},
   "outputs": [
    {
     "data": {
      "text/plain": [
       "array([[[0.67474401, 0.34385214, 0.18143654, 0.65733041, 0.72172414],\n",
       "        [0.3038035 , 0.9088724 , 0.41034944, 0.84218253, 0.11612205],\n",
       "        [0.6405535 , 0.8426777 , 0.8843958 , 0.21406958, 0.72561716]],\n",
       "\n",
       "       [[0.82501907, 0.07317282, 0.72109159, 0.99858954, 0.89507733],\n",
       "        [0.66160792, 0.73295926, 0.37149319, 0.23335855, 0.7405161 ],\n",
       "        [0.67890123, 0.86729561, 0.93640664, 0.45413795, 0.1224886 ]]])"
      ]
     },
     "execution_count": 180,
     "metadata": {},
     "output_type": "execute_result"
    }
   ],
   "source": [
    "#15. Now we want to label the values in d. First create an empty array \"f\" with the same shape (i.e. 2x3x5) as d using `np.empty`\n",
    "\n",
    "\n",
    "f= np.empty(((2,3,5)))\n",
    "f"
   ]
  },
  {
   "cell_type": "code",
   "execution_count": 181,
   "id": "b0995c6d",
   "metadata": {},
   "outputs": [
    {
     "data": {
      "text/plain": [
       "\"\\nIf a value in d is larger than d_mean but smaller than d_max, assign 75 to the corresponding value in f.\\nIf a value equals to d_mean, assign 50 to the corresponding value in f.\\nAssign 0 to the corresponding value(s) in f for d_min in d.\\nAssign 100 to the corresponding value(s) in f for d_max in d.\\nIn the end, f should have only the following values: 0, 25, 50, 75, and 100.\\nNote: you don't have to use Numpy in this question.\\n\""
      ]
     },
     "execution_count": 181,
     "metadata": {},
     "output_type": "execute_result"
    }
   ],
   "source": [
    "\"\"\"\"\n",
    "#16. Populate the values in f. For each value in d, if it's larger than d_min but smaller than d_mean, assign 25 to the corresponding value in f.\n",
    "If a value in d is larger than d_mean but smaller than d_max, assign 75 to the corresponding value in f.\n",
    "If a value equals to d_mean, assign 50 to the corresponding value in f.\n",
    "Assign 0 to the corresponding value(s) in f for d_min in d.\n",
    "Assign 100 to the corresponding value(s) in f for d_max in d.\n",
    "In the end, f should have only the following values: 0, 25, 50, 75, and 100.\n",
    "Note: you don't have to use Numpy in this question.\n",
    "\"\"\""
   ]
  },
  {
   "cell_type": "code",
   "execution_count": 204,
   "id": "68c848d9",
   "metadata": {},
   "outputs": [
    {
     "data": {
      "text/plain": [
       "array([[[ 75,  25,  25,  75,  75],\n",
       "        [ 25,  75,  25,  75,  25],\n",
       "        [ 75,  75,  75,  25,  75]],\n",
       "\n",
       "       [[ 75,   0,  75, 100,  75],\n",
       "        [ 75,  75,  25,  25,  75],\n",
       "        [ 75,  75,  75,  25,  25]]])"
      ]
     },
     "execution_count": 204,
     "metadata": {},
     "output_type": "execute_result"
    }
   ],
   "source": [
    "f_mini = np.where((d> d_min) & (d< d_mean), 25, 0)\n",
    "f_mean = np.where((d >d_mean) & (d < d_max), 75, 0)\n",
    "f_media = np.where(d==d_mean, 50, 0)\n",
    "f_max = np.where(d==d_max, 100, 0)\n",
    "f_min = np.where(d==d_min,0, 0)\n",
    "#print(f_mean)\n",
    "#print(f_media)\n",
    "#print(f_max)\n",
    "#print(f_min)\n",
    "\n",
    "\n",
    "\n",
    "f = (f_mean + f_media + f_max + f_min + f_mini)\n",
    "f\n"
   ]
  },
  {
   "cell_type": "code",
   "execution_count": 198,
   "id": "f24b6632",
   "metadata": {},
   "outputs": [
    {
     "ename": "SyntaxError",
     "evalue": "invalid syntax (26049110.py, line 2)",
     "output_type": "error",
     "traceback": [
      "\u001b[1;36m  Input \u001b[1;32mIn [198]\u001b[1;36m\u001b[0m\n\u001b[1;33m    For instance, if your d is:\u001b[0m\n\u001b[1;37m        ^\u001b[0m\n\u001b[1;31mSyntaxError\u001b[0m\u001b[1;31m:\u001b[0m invalid syntax\n"
     ]
    }
   ],
   "source": [
    "#17. Print d and f. Do you have your expected f?\n",
    "For instance, if your d is:\n",
    "array([[[1.85836099, 1.67064465, 1.62576044, 1.40243961, 1.88454931],\n",
    "        [1.75354326, 1.69403643, 1.36729252, 1.61415071, 1.12104981],\n",
    "        [1.72201435, 1.1862918 , 1.87078449, 1.7726778 , 1.88180042]],\n",
    "\n",
    "       [[1.44747908, 1.31673383, 1.02000951, 1.52218947, 1.97066381],\n",
    "        [1.79129243, 1.74983003, 1.96028037, 1.85166831, 1.65450881],\n",
    "        [1.18068344, 1.9587381 , 1.00656599, 1.93402165, 1.73514584]]])\n",
    "\n",
    "Your f should be:\n",
    "array([[[ 75.,  75.,  75.,  25.,  75.],\n",
    "        [ 75.,  75.,  25.,  25.,  25.],\n",
    "        [ 75.,  25.,  75.,  75.,  75.]],\n",
    "\n",
    "       [[ 25.,  25.,  25.,  25., 100.],\n",
    "        [ 75.,  75.,  75.,  75.,  75.],\n",
    "        [ 25.,  75.,   0.,  75.,  75.]]])\n"
   ]
  },
  {
   "cell_type": "code",
   "execution_count": 206,
   "id": "dad3710c",
   "metadata": {},
   "outputs": [
    {
     "name": "stdout",
     "output_type": "stream",
     "text": [
      "[[[1.67474401 1.34385214 1.18143654 1.65733041 1.72172414]\n",
      "  [1.3038035  1.9088724  1.41034944 1.84218253 1.11612205]\n",
      "  [1.6405535  1.8426777  1.8843958  1.21406958 1.72561716]]\n",
      "\n",
      " [[1.82501907 1.07317282 1.72109159 1.99858954 1.89507733]\n",
      "  [1.66160792 1.73295926 1.37149319 1.23335855 1.7405161 ]\n",
      "  [1.67890123 1.86729561 1.93640664 1.45413795 1.1224886 ]]]\n",
      "[[[ 75  25  25  75  75]\n",
      "  [ 25  75  25  75  25]\n",
      "  [ 75  75  75  25  75]]\n",
      "\n",
      " [[ 75   0  75 100  75]\n",
      "  [ 75  75  25  25  75]\n",
      "  [ 75  75  75  25  25]]]\n"
     ]
    }
   ],
   "source": [
    "print(d)\n",
    "print(f)"
   ]
  },
  {
   "cell_type": "code",
   "execution_count": null,
   "id": "c430dd34",
   "metadata": {},
   "outputs": [],
   "source": [
    "#18. Bonus question: instead of using numbers (i.e. 0, 25, 50, 75, and 100), how to use string values \n",
    "(\"A\", \"B\", \"C\", \"D\", and \"E\") to label the array elements? You are expecting the result to be:\n",
    "array([[[ 'D',  'D',  'D',  'B',  'D'],\n",
    "        [ 'D',  'D',  'B',  'B',  'B'],\n",
    "        [ 'D',  'B',  'D',  'D',  'D']],\n",
    "\n",
    "       [[ 'B',  'B',  'B',  'B',  'E'],\n",
    "        [ 'D',  'D',  'D',  'D',  'D'],\n",
    "        [ 'B',  'D',   'A',  'D', 'D']]])\n",
    "Again, you don't need Numpy in this question."
   ]
  },
  {
   "cell_type": "code",
   "execution_count": 216,
   "id": "16f237af",
   "metadata": {},
   "outputs": [
    {
     "ename": "UFuncTypeError",
     "evalue": "ufunc 'add' did not contain a loop with signature matching types (dtype('<U11'), dtype('<U11')) -> None",
     "output_type": "error",
     "traceback": [
      "\u001b[1;31m---------------------------------------------------------------------------\u001b[0m",
      "\u001b[1;31mUFuncTypeError\u001b[0m                            Traceback (most recent call last)",
      "Input \u001b[1;32mIn [216]\u001b[0m, in \u001b[0;36m<cell line: 14>\u001b[1;34m()\u001b[0m\n\u001b[0;32m      6\u001b[0m g_min \u001b[38;5;241m=\u001b[39m np\u001b[38;5;241m.\u001b[39mwhere(d\u001b[38;5;241m==\u001b[39md_min,\u001b[38;5;124m\"\u001b[39m\u001b[38;5;124mA\u001b[39m\u001b[38;5;124m\"\u001b[39m, \u001b[38;5;241m0\u001b[39m)\n\u001b[0;32m      7\u001b[0m \u001b[38;5;66;03m#print(g_mean)\u001b[39;00m\n\u001b[0;32m      8\u001b[0m \u001b[38;5;66;03m#print(g_media)\u001b[39;00m\n\u001b[0;32m      9\u001b[0m \u001b[38;5;66;03m#print(g_max)\u001b[39;00m\n\u001b[0;32m     10\u001b[0m \u001b[38;5;66;03m#print(g_min)\u001b[39;00m\n\u001b[1;32m---> 14\u001b[0m g \u001b[38;5;241m=\u001b[39m (\u001b[43mg_mean\u001b[49m\u001b[43m \u001b[49m\u001b[38;5;241;43m+\u001b[39;49m\u001b[43m \u001b[49m\u001b[43mg_media\u001b[49m \u001b[38;5;241m+\u001b[39m g_max \u001b[38;5;241m+\u001b[39m g_min \u001b[38;5;241m+\u001b[39m g_mini)\n",
      "\u001b[1;31mUFuncTypeError\u001b[0m: ufunc 'add' did not contain a loop with signature matching types (dtype('<U11'), dtype('<U11')) -> None"
     ]
    }
   ],
   "source": [
    "g= np.empty(((2,3,5)))\n",
    "g_mini = np.where((d> d_min) & (d< d_mean), \"B\", 0)\n",
    "g_mean = np.where((d >d_mean) & (d < d_max), \"D\", 0)\n",
    "g_media = np.where(d==d_mean, \"C\", 0)\n",
    "g_max = np.where(d==d_max, \"E\", 0)\n",
    "g_min = np.where(d==d_min,\"A\", 0)\n",
    "#print(g_mean)\n",
    "#print(g_media)\n",
    "#print(g_max)\n",
    "#print(g_min)\n",
    "\n",
    "\n",
    "\n",
    "g = (g_mean + g_media + g_max + g_min + g_mini)\n",
    "\n"
   ]
  }
 ],
 "metadata": {
  "kernelspec": {
   "display_name": "Python 3 (ipykernel)",
   "language": "python",
   "name": "python3"
  },
  "language_info": {
   "codemirror_mode": {
    "name": "ipython",
    "version": 3
   },
   "file_extension": ".py",
   "mimetype": "text/x-python",
   "name": "python",
   "nbconvert_exporter": "python",
   "pygments_lexer": "ipython3",
   "version": "3.9.12"
  }
 },
 "nbformat": 4,
 "nbformat_minor": 5
}
